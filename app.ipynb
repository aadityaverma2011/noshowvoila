{
 "cells": [
  {
   "cell_type": "code",
   "execution_count": null,
   "id": "382c5235",
   "metadata": {
    "vscode": {
     "languageId": "plaintext"
    }
   },
   "outputs": [],
   "source": [
    "# cell 1: imports\n",
    "import os\n",
    "import uuid\n",
    "from moviepy.editor import VideoFileClip\n",
    "from transformers import pipeline\n",
    "import ipywidgets as widgets\n",
    "from IPython.display import display, Audio, Video, clear_output\n",
    "\n",
    "# cell 2: setup temp dir + load pipeline\n",
    "TEMP_DIR = \"temp\"\n",
    "os.makedirs(TEMP_DIR, exist_ok=True)\n",
    "\n",
    "classifier = pipeline(\"audio-classification\", model=\"ehcalabres/wav2vec2-lg-xlsr-en-speech-emotion-recognition\")\n"
   ]
  },
  {
   "cell_type": "code",
   "execution_count": null,
   "id": "10946f14",
   "metadata": {
    "vscode": {
     "languageId": "plaintext"
    }
   },
   "outputs": [],
   "source": [
    "# cell 3: widgets\n",
    "upload = widgets.FileUpload(accept=\".mp4,.mov,.avi,.mkv,.wav,.mp3\", multiple=False)\n",
    "out = widgets.Output()\n",
    "display(widgets.HTML(\"<h2>🎧 Audio Sentiment Analyzer</h2>\"))\n",
    "display(upload, out)\n"
   ]
  },
  {
   "cell_type": "code",
   "execution_count": null,
   "id": "20a4f96d",
   "metadata": {
    "vscode": {
     "languageId": "plaintext"
    }
   },
   "outputs": [],
   "source": [
    "# cell 4: handle file upload + inference\n",
    "def handle_upload(change):\n",
    "    out.clear_output()\n",
    "    uploaded_file = upload.value\n",
    "    if not uploaded_file:\n",
    "        return\n",
    "\n",
    "    for fname, file_info in uploaded_file.items():\n",
    "        file_ext = fname.split(\".\")[-1].lower()\n",
    "        is_video = file_ext in [\"mp4\", \"mov\", \"avi\", \"mkv\"]\n",
    "        unique_id = str(uuid.uuid4())\n",
    "        temp_input_path = os.path.join(TEMP_DIR, f\"{unique_id}.{file_ext}\")\n",
    "        temp_audio_path = os.path.join(TEMP_DIR, f\"{unique_id}.wav\")\n",
    "\n",
    "        with open(temp_input_path, \"wb\") as f:\n",
    "            f.write(file_info['content'])\n",
    "\n",
    "        try:\n",
    "            with out:\n",
    "                clear_output()\n",
    "                if is_video:\n",
    "                    display(Video(temp_input_path, embed=True))\n",
    "                    clip = VideoFileClip(temp_input_path)\n",
    "                    audio = clip.audio\n",
    "                    audio.write_audiofile(temp_audio_path, logger=None)\n",
    "                    clip.close()\n",
    "                    if audio:\n",
    "                        audio.close()\n",
    "                else:\n",
    "                    display(Audio(temp_input_path, autoplay=False))\n",
    "                    temp_audio_path = temp_input_path\n",
    "\n",
    "                print(\"Analyzing sentiment...\")\n",
    "                prediction = classifier(temp_audio_path)\n",
    "                top_result = prediction[0]\n",
    "                display(widgets.HTML(\n",
    "                    f\"<b>🎧 Sentiment:</b> <span style='color:green'>{top_result['label']}</span> \"\n",
    "                    f\"(Confidence: {top_result['score']:.2f})\"\n",
    "                ))\n",
    "\n",
    "        except Exception as e:\n",
    "            with out:\n",
    "                print(f\"Error: {e}\")\n",
    "\n",
    "        finally:\n",
    "            try:\n",
    "                os.remove(temp_input_path)\n",
    "                if os.path.exists(temp_audio_path) and is_video:\n",
    "                    os.remove(temp_audio_path)\n",
    "            except:\n",
    "                pass\n",
    "\n",
    "upload.observe(handle_upload, names='value')\n"
   ]
  }
 ],
 "metadata": {
  "language_info": {
   "name": "python"
  }
 },
 "nbformat": 4,
 "nbformat_minor": 5
}
