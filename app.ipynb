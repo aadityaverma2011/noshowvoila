{
 "cells": [
  {
   "cell_type": "code",
   "execution_count": null,
   "id": "382c5235",
   "metadata": {
    "vscode": {
     "languageId": "plaintext"
    }
   },
   "outputs": [],
   "source": [
    "import pandas as pd\n",
    "import joblib\n",
    "import ipywidgets as widgets\n",
    "from IPython.display import display, clear_output\n",
    "from io import StringIO\n",
    "import base64\n",
    "import os\n",
    "\n",
    "# Load model\n",
    "model_path = \"model/no_show_model.pkl\"\n",
    "model = joblib.load(model_path)\n",
    "\n",
    "# Header\n",
    "display(widgets.HTML(\"<h2 style='color: #2c3e50;'>🧠 Medical Appointment No-Show Predictor</h2>\"))\n",
    "display(widgets.HTML(\"<p>Upload a CSV file of patient appointment data and get predictions below.</p>\"))\n",
    "\n",
    "# File upload widget\n",
    "uploader = widgets.FileUpload(\n",
    "    accept=\".csv\",\n",
    "    multiple=False,\n",
    "    description=\"📤 Upload CSV\"\n",
    ")\n",
    "\n",
    "output = widgets.Output()\n",
    "display(uploader, output)\n",
    "\n",
    "def on_upload_change(change):\n",
    "    output.clear_output()\n",
    "    if uploader.value:\n",
    "        uploaded_file = list(uploader.value.values())[0]\n",
    "        content = uploaded_file['content']\n",
    "        try:\n",
    "            df = pd.read_csv(StringIO(content.decode('utf-8')))\n",
    "\n",
    "            with output:\n",
    "                print(\"✅ File uploaded successfully. Previewing data:\")\n",
    "                display(df.head())\n",
    "\n",
    "                # Preprocessing\n",
    "                df['ScheduledDay'] = pd.to_datetime(df['ScheduledDay'], errors='coerce')\n",
    "                df['AppointmentDay'] = pd.to_datetime(df['AppointmentDay'], errors='coerce')\n",
    "                df['waiting_days'] = (df['AppointmentDay'] - df['ScheduledDay']).dt.days\n",
    "                df['Gender'] = df['Gender'].map({'F': 0, 'M': 1})\n",
    "                df['scheduled_dayofweek'] = df['ScheduledDay'].dt.dayofweek\n",
    "                df['appointment_dayofweek'] = df['AppointmentDay'].dt.dayofweek\n",
    "                df['same_day'] = (df['waiting_days'] == 0).astype(int)\n",
    "                df['age_group'] = pd.cut(df['Age'], bins=[0, 12, 18, 35, 60, 100], labels=[0, 1, 2, 3, 4])\n",
    "\n",
    "                df.drop(columns=['PatientId', 'AppointmentID', 'ScheduledDay', 'AppointmentDay'], inplace=True)\n",
    "\n",
    "                df = pd.get_dummies(df, columns=['Neighbourhood', 'age_group'], drop_first=True)\n",
    "\n",
    "                expected_cols = model.get_booster().feature_names\n",
    "                for col in expected_cols:\n",
    "                    if col not in df.columns:\n",
    "                        df[col] = 0\n",
    "                df = df[expected_cols]\n",
    "\n",
    "                df['No-Show Probability'] = model.predict_proba(df)[:, 1]\n",
    "                df['Prediction'] = model.predict(df)\n",
    "                df['Prediction Label'] = df['Prediction'].map({0: \"✅ Will Show\", 1: \"❌ No-Show Likely\"})\n",
    "\n",
    "                print(\"\\n📊 Prediction Results:\")\n",
    "                display(df[['No-Show Probability', 'Prediction Label']])\n",
    "\n",
    "                # CSV download link\n",
    "                csv_data = df.to_csv(index=False)\n",
    "                b64 = base64.b64encode(csv_data.encode()).decode()\n",
    "                href = f'<a download=\"no_show_predictions.csv\" href=\"data:text/csv;base64,{b64}\" target=\"_blank\">⬇ Download Full Prediction CSV</a>'\n",
    "                display(widgets.HTML(value=href))\n",
    "\n",
    "        except Exception as e:\n",
    "            with output:\n",
    "                print(f\"❌ Error: {e}\")\n",
    "\n",
    "uploader.observe(on_upload_change, names='value')\n"
   ]
  },
  {
   "cell_type": "code",
   "execution_count": null,
   "id": "10946f14",
   "metadata": {
    "vscode": {
     "languageId": "plaintext"
    }
   },
   "outputs": [],
   "source": []
  },
  {
   "cell_type": "code",
   "execution_count": null,
   "id": "20a4f96d",
   "metadata": {
    "vscode": {
     "languageId": "plaintext"
    }
   },
   "outputs": [],
   "source": []
  }
 ],
 "metadata": {
  "language_info": {
   "name": "python"
  }
 },
 "nbformat": 4,
 "nbformat_minor": 5
}
